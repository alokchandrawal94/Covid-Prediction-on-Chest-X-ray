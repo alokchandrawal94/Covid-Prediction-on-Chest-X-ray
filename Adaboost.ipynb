{
  "nbformat": 4,
  "nbformat_minor": 0,
  "metadata": {
    "colab": {
      "name": "Adaboost.ipynb",
      "provenance": [],
      "collapsed_sections": []
    },
    "kernelspec": {
      "name": "python3",
      "display_name": "Python 3"
    }
  },
  "cells": [
    {
      "cell_type": "code",
      "metadata": {
        "id": "EGNx_2MybWEN"
      },
      "source": [
        "import os\n",
        "import numpy as np\n",
        "import pandas as pd\n",
        "import matplotlib.pyplot as plt\n",
        "from PIL import Image\n",
        "import cv2\n",
        "from math import sqrt\n",
        "import time\n",
        "\n",
        "from skimage.io import imread, imshow, imread_collection\n",
        "from skimage.transform import resize\n",
        "from skimage.feature import hog\n",
        "from skimage import exposure\n",
        "\n",
        "from sklearn.model_selection import cross_val_score\n",
        "from sklearn.feature_selection import SelectKBest, chi2, RFE, RFECV\n",
        "from sklearn.tree import DecisionTreeClassifier\n",
        "from sklearn.linear_model import LogisticRegression\n",
        "from sklearn.svm import SVC\n",
        "\n",
        "from sklearn.ensemble import AdaBoostClassifier\n",
        "from sklearn.model_selection import KFold\n",
        "from google.colab import drive"
      ],
      "execution_count": null,
      "outputs": []
    },
    {
      "cell_type": "code",
      "metadata": {
        "id": "Y9pu-i5Ibex2"
      },
      "source": [
        "drive.mount('/content/drive', force_remount=True)\n",
        "\n",
        "train_img = '/content/drive/Shareddrives/CSCE 633(Fall 2020) HW5/train_resized_100'\n",
        "train_csv = '/content/drive/Shareddrives/CSCE 633(Fall 2020) HW5/train.csv'\n",
        "test_img = '/content/drive/Shareddrives/CSCE 633(Fall 2020) HW5/test_resized_100'\n",
        "test_csv = '/content/drive/Shareddrives/CSCE 633(Fall 2020) HW5/test.csv'\n",
        "\n",
        "#wrapper model\n",
        "pkl_wrapper_model = '/content/drive/Shareddrives/CSCE 633(Fall 2020) HW5/RFEcv_model.pkl'\n",
        "\n",
        "\n",
        "\n"
      ],
      "execution_count": null,
      "outputs": []
    },
    {
      "cell_type": "code",
      "metadata": {
        "id": "3M0XAyYfLvSK"
      },
      "source": [
        "# train data with hog feature extraction applied\n",
        "hogged_data = pd.read_csv(\"/content/drive/Shareddrives/CSCE 633(Fall 2020) HW5/hogged_data.csv\")"
      ],
      "execution_count": null,
      "outputs": []
    },
    {
      "cell_type": "code",
      "metadata": {
        "id": "2RzrkiIUYEBV"
      },
      "source": [
        "train_X = hogged_data.iloc[:,0:-1].values\n",
        "train_Y = hogged_data.iloc[:,-1].values\n",
        "\n",
        "\n"
      ],
      "execution_count": null,
      "outputs": []
    },
    {
      "cell_type": "code",
      "metadata": {
        "id": "eQhSw-JBl75S"
      },
      "source": [
        "#tempoary code\n",
        "xray_image_location = '/content/drive/Shareddrives/CSCE 633(Fall 2020) HW5/covid_images_from_torchxrayvision'\n",
        "\n",
        "\n",
        "path, dirs, files = next(os.walk(xray_image_location))\n",
        "\n",
        "labels =[]\n",
        "images_names = []\n",
        "for image_name in files:\n",
        "  labels.append('1')\n",
        "  images_names.append(image_name)\n",
        "d = {'filename':images_names,'covid(label)':labels}\n",
        "\n",
        "covid_torchxrayvision = pd.DataFrame(d)\n",
        "\n",
        "\n",
        "\n",
        "\n"
      ],
      "execution_count": null,
      "outputs": []
    },
    {
      "cell_type": "code",
      "metadata": {
        "id": "eO5co0Kcqljx"
      },
      "source": [
        "# covid_torchxrayvision.to_csv('/content/drive/Shareddrives/CSCE 633(Fall 2020) HW5/covid_torchxrayvision.csv',index=False)"
      ],
      "execution_count": null,
      "outputs": []
    },
    {
      "cell_type": "markdown",
      "metadata": {
        "id": "WpNO13mJYJ_r"
      },
      "source": [
        "# Filter methods"
      ]
    },
    {
      "cell_type": "code",
      "metadata": {
        "id": "ig1rE6D7YPhU"
      },
      "source": [
        "\n",
        "bestfeatures_filter = SelectKBest(score_func=chi2, k=200)\n",
        "filter_fit = bestfeatures_filter.fit(train_X,train_Y)\n",
        "filter_indices=filter_fit.get_support(indices = True)\n",
        "train_data = pd.DataFrame()\n",
        "for feature in filter_indices:\n",
        "  train_data[str(feature)] = hogged_data[str(feature)] \n",
        "train_X = train_data.values\n",
        "train_Y = hogged_data.iloc[:,-1].values\n",
        "# adaboost code\n",
        "kf = KFold(n_splits=5)\n",
        "kf.get_n_splits(train_X)\n",
        "adaboost = AdaBoostClassifier(n_estimators=100, base_estimator= None,learning_rate=1, random_state = 1)\n",
        "accuracy =[]\n",
        "for train_index, test_index in kf.split(train_X):\n",
        "  train_x, test_x = train_X[train_index], train_X[test_index]\n",
        "  train_y, test_y = train_Y[train_index], train_Y[test_index]\n",
        "  adaboost.fit(train_x, train_y)\n",
        "  accuracy.append(adaboost.score(test_x,test_y))\n",
        "print('Accuracy of adaboost when using filter feature = {} %'.format(sum(accuracy)*100/len(accuracy)))\n",
        "train_X = hogged_data.iloc[:,0:-1].values\n",
        "train_Y = hogged_data.iloc[:,-1].values\n",
        "\n"
      ],
      "execution_count": null,
      "outputs": []
    },
    {
      "cell_type": "markdown",
      "metadata": {
        "id": "0nXzKZCPMljC"
      },
      "source": [
        "#  Boosting is an Ensemble learning methods that makes use of multiple learners. In boosting, different algorithms work closer by learning from each other. "
      ]
    },
    {
      "cell_type": "markdown",
      "metadata": {
        "id": "ord1kG9QM1BB"
      },
      "source": [
        "# Adaboost on hogged data"
      ]
    },
    {
      "cell_type": "code",
      "metadata": {
        "id": "XLcp-ETvNN7Z"
      },
      "source": [
        "# adaboost code\n",
        "kf = KFold(n_splits=5)\n",
        "kf.get_n_splits(train_X)\n",
        "adaboost = AdaBoostClassifier(n_estimators=100, base_estimator= None,learning_rate=1, random_state = 1)\n",
        "\n"
      ],
      "execution_count": null,
      "outputs": []
    },
    {
      "cell_type": "code",
      "metadata": {
        "id": "8w8tgxoWOVyi"
      },
      "source": [
        "accuracy =[]\n",
        "for train_index, test_index in kf.split(train_X):\n",
        "  train_x, test_x = train_X[train_index], train_X[test_index]\n",
        "  train_y, test_y = train_Y[train_index], train_Y[test_index]\n",
        "  adaboost.fit(train_x, train_y)\n",
        "  accuracy.append(adaboost.score(test_x,test_y))\n",
        "\n"
      ],
      "execution_count": null,
      "outputs": []
    },
    {
      "cell_type": "code",
      "metadata": {
        "id": "9ZXU3FrFOdc8"
      },
      "source": [
        "#Accuracy of adaboost when using feature from wrapper\n",
        "print('Accuracy of adaboost on features after hog feature extraction= {} %'.format(sum(accuracy)*100/len(accuracy)))\n"
      ],
      "execution_count": null,
      "outputs": []
    },
    {
      "cell_type": "markdown",
      "metadata": {
        "id": "rCeYbo37MBDS"
      },
      "source": [
        "# Wrapper feature with Adaboost\n"
      ]
    },
    {
      "cell_type": "code",
      "metadata": {
        "id": "TegwJwd4cKv3"
      },
      "source": [
        "#get data from wrapper model\n",
        "import pickle\n",
        "with open(pkl_wrapper_model, 'rb') as f:\n",
        "     wrapper_model = pickle.load(f)"
      ],
      "execution_count": null,
      "outputs": []
    },
    {
      "cell_type": "code",
      "metadata": {
        "id": "j8hmtenMclAl"
      },
      "source": [
        "print(\"Optimal number of features : %d\" % wrapper_model.n_features_)\n",
        "print(\"RFE_CV indices:\", wrapper_model.get_support(indices = True))"
      ],
      "execution_count": null,
      "outputs": []
    },
    {
      "cell_type": "code",
      "metadata": {
        "id": "sj90ESjPff8o"
      },
      "source": [
        "print(wrapper_model)"
      ],
      "execution_count": null,
      "outputs": []
    },
    {
      "cell_type": "code",
      "metadata": {
        "id": "-wcyRRnPe07T"
      },
      "source": [
        "feature_indices = wrapper_model.get_support(indices = True)\n",
        "print(feature_indices)"
      ],
      "execution_count": null,
      "outputs": []
    },
    {
      "cell_type": "code",
      "metadata": {
        "id": "sk-qz0XWpg4_"
      },
      "source": [
        "train_data = pd.DataFrame()\n",
        "for feature in feature_indices:\n",
        "  train_data[str(feature)] = hogged_data[str(feature)] \n",
        "train_X = train_data.values\n",
        "train_Y = hogged_data.iloc[:,-1].values\n"
      ],
      "execution_count": null,
      "outputs": []
    },
    {
      "cell_type": "code",
      "metadata": {
        "id": "49I3DF6-8V4_"
      },
      "source": [
        "# adaboost code\n",
        "kf = KFold(n_splits=5)\n",
        "\n",
        "# hogged data and wrapper columsn\n",
        "# kf.get_n_splits(train_X)\n",
        "\n",
        "kf.get_n_splits(X_train)\n",
        "\n",
        "\n",
        "adaboost = AdaBoostClassifier(n_estimators=100, base_estimator= None,learning_rate=1, random_state = 1)\n",
        "\n"
      ],
      "execution_count": null,
      "outputs": []
    },
    {
      "cell_type": "code",
      "metadata": {
        "id": "ShHs2l0xOh-M"
      },
      "source": [
        "display(feature_indices)\n",
        "display(len(X_train))"
      ],
      "execution_count": null,
      "outputs": []
    },
    {
      "cell_type": "code",
      "metadata": {
        "id": "UbnFgx_I6AGm"
      },
      "source": [
        "# wrapper features adaboost\n",
        "accuracy =[]\n",
        "for train_index, test_index in kf.split(train_X):\n",
        "  train_x, test_x = train_X[train_index], train_X[test_index]\n",
        "  train_y, test_y = train_Y[train_index], train_Y[test_index]\n",
        "  adaboost.fit(train_x, train_y)\n",
        "  accuracy.append(adaboost.score(test_x,test_y))\n",
        "\n",
        "\n"
      ],
      "execution_count": null,
      "outputs": []
    },
    {
      "cell_type": "code",
      "metadata": {
        "id": "64o1EyWXPm_f"
      },
      "source": [
        "display(X_train.columns.values)"
      ],
      "execution_count": null,
      "outputs": []
    },
    {
      "cell_type": "code",
      "metadata": {
        "id": "JBLbtbpjN5vq"
      },
      "source": [
        "# not. wrapper features adaboost\n",
        "train_X = X_train.values\n",
        "accuracy =[]\n",
        "for train_index, test_index in kf.split(train_X):\n",
        "  train_x, test_x = train_X[train_index], train_X[test_index]\n",
        "  train_y, test_y = train_Y[train_index], train_Y[test_index]\n",
        "  adaboost.fit(train_x, train_y)\n",
        "  accuracy.append(adaboost.score(test_x,test_y))\n",
        "\n",
        "\n"
      ],
      "execution_count": null,
      "outputs": []
    },
    {
      "cell_type": "code",
      "metadata": {
        "id": "EgzUGw9GH1mS"
      },
      "source": [
        "#Accuracy of adaboost when using feature from wrapper\n",
        "print('Accuracy of adaboost when using feature from wrapper = {} %'.format(sum(accuracy)*100/len(accuracy)))\n"
      ],
      "execution_count": null,
      "outputs": []
    },
    {
      "cell_type": "code",
      "metadata": {
        "id": "Dwg2XAgZM_bF"
      },
      "source": [
        ""
      ],
      "execution_count": null,
      "outputs": []
    },
    {
      "cell_type": "code",
      "metadata": {
        "id": "6h41E463LyKK"
      },
      "source": [
        "# display(X_train)\n",
        "# display(X_train.columns.values)\n"
      ],
      "execution_count": null,
      "outputs": []
    },
    {
      "cell_type": "code",
      "metadata": {
        "id": "ExMmk1ymASer"
      },
      "source": [
        "! pip install torchxrayvision"
      ],
      "execution_count": null,
      "outputs": []
    },
    {
      "cell_type": "code",
      "metadata": {
        "id": "BjMparuZUyER"
      },
      "source": [
        "import torchxrayvision as xrv"
      ],
      "execution_count": null,
      "outputs": []
    },
    {
      "cell_type": "code",
      "metadata": {
        "id": "-ABpVGGkWNMf"
      },
      "source": [
        "! git clone https://github.com/ieee8023/covid-chestxray-dataset\n"
      ],
      "execution_count": null,
      "outputs": []
    },
    {
      "cell_type": "code",
      "metadata": {
        "id": "Um5NTtWjYvib"
      },
      "source": [
        "d_covid19 = xrv.datasets.COVID19_Dataset(imgpath='/content/drive/Shareddrives/CSCE 633(Fall 2020) HW5/covid-chestxray-dataset/images', csvpath='/content/drive/Shareddrives/CSCE 633(Fall 2020) HW5/covid-chestxray-dataset/metadata.csv')\n",
        "csvpath_for_torchxrayvision = '/content/drive/Shareddrives/CSCE 633(Fall 2020) HW5/covid-chestxray-dataset/metadata.csv'\n",
        "imgpath_for_torchxrayvision = '/content/drive/Shareddrives/CSCE 633(Fall 2020) HW5/covid-chestxray-dataset/images'\n",
        "\n"
      ],
      "execution_count": null,
      "outputs": []
    },
    {
      "cell_type": "code",
      "metadata": {
        "id": "7TVSMq18CWsC"
      },
      "source": [
        "display(d_covid19)"
      ],
      "execution_count": null,
      "outputs": []
    },
    {
      "cell_type": "code",
      "metadata": {
        "id": "BR_Uu2i5P0w1"
      },
      "source": [
        "#reading the image\n",
        "img_1 = imread('/content/drive/Shareddrives/CSCE 633(Fall 2020) HW5/covid-chestxray-dataset/images/16858_1_1.png',as_gray=True)\n",
        "imshow(img_1)\n",
        "print(img_1.shape)"
      ],
      "execution_count": null,
      "outputs": []
    },
    {
      "cell_type": "code",
      "metadata": {
        "id": "F1IUNvs1qMt-"
      },
      "source": [
        "xray_csv = pd.read_csv(csvpath_for_torchxrayvision)\n",
        "df_covidcsv = xray_csv.loc[xray_csv['finding'] == 'Pneumonia/Viral/COVID-19']"
      ],
      "execution_count": null,
      "outputs": []
    },
    {
      "cell_type": "code",
      "metadata": {
        "id": "5AFN2TN3awMK"
      },
      "source": [
        "#make a list of names which are covid images \n",
        "# display(df_covidcsv)\n",
        "# df_covidcsv['covid(label)'] = np.where(df_covidcsv['RT_PCR_positive']!= 'Y', 0, 1)\n",
        "# df_covidcsv = df_covidcsv.drop(columns=['covid(label)'])\n",
        "# len(df_covidcsv)\n",
        "# print(len(df_covidcsv.loc[df_covidcsv['RT_PCR_positive']=='Pneumonia/Viral/COVID-19']))\n",
        "display(df_covidcsv.columns.values)\n",
        "df_covidcsv['age']= df_covidcsv['age'].fillna(df_covidcsv['age'].mean())\n",
        "# df_covidcsv[['age','filename','sex', 'covid(label)']].to_csv('/content/drive/Shareddrives/CSCE 633(Fall 2020) HW5/train_torchxrayvision.csv',index=False)\n"
      ],
      "execution_count": null,
      "outputs": []
    },
    {
      "cell_type": "code",
      "metadata": {
        "id": "XHcHqj76Rfpl"
      },
      "source": [
        "!mkdir '/content/drive/Shareddrives/CSCE 633(Fall 2020) HW5/covid_images_from_torchxrayvision/'"
      ],
      "execution_count": null,
      "outputs": []
    },
    {
      "cell_type": "code",
      "metadata": {
        "id": "ARA6tEW6Ruc8"
      },
      "source": [
        "! ls '/content/drive/Shareddrives/CSCE 633(Fall 2020) HW5/'"
      ],
      "execution_count": null,
      "outputs": []
    },
    {
      "cell_type": "code",
      "metadata": {
        "id": "g-dOPNzHQw4K"
      },
      "source": [
        "import os\n",
        "for name in covid_images_list:\n",
        "  cmd = 'cp \\'/content/drive/Shareddrives/CSCE 633(Fall 2020) HW5/covid-chestxray-dataset/images/\\'' +str(name)+ ' \\'/content/drive/Shareddrives/CSCE 633(Fall 2020) HW5/covid_images_from_torchxrayvision/.\\''\n",
        "  print(cmd)\n",
        "  os.system(cmd)  \n",
        "\n"
      ],
      "execution_count": null,
      "outputs": []
    },
    {
      "cell_type": "code",
      "metadata": {
        "id": "b1AhmmU9SBYJ"
      },
      "source": [
        "! cd '/content/drive/Shareddrives/CSCE 633(Fall 2020) HW5/'"
      ],
      "execution_count": null,
      "outputs": []
    },
    {
      "cell_type": "code",
      "metadata": {
        "id": "DM2jsh8MSKH6"
      },
      "source": [
        "! ls '/content/drive/Shareddrives/CSCE 633(Fall 2020) HW5/covid_images_from_torchxrayvision/'"
      ],
      "execution_count": null,
      "outputs": []
    },
    {
      "cell_type": "markdown",
      "metadata": {
        "id": "idRlwBzX8GMe"
      },
      "source": [
        "# Improving performance"
      ]
    },
    {
      "cell_type": "code",
      "metadata": {
        "id": "8cpLndQL8FRz"
      },
      "source": [
        "train_csv_path = '/content/drive/Shareddrives/CSCE 633(Fall 2020) HW5/train.csv'\n",
        "train_X = hogged_data.iloc[:,0:-1]\n",
        "train_Y = hogged_data.iloc[:,-1]\n",
        "train_csv = pd.read_csv(train_csv_path)"
      ],
      "execution_count": null,
      "outputs": []
    },
    {
      "cell_type": "code",
      "metadata": {
        "id": "7vBznVvUIlY5"
      },
      "source": [
        "def get_wrapper_features_dataset(train_X,feature_indices):\n",
        "  train_data = pd.DataFrame()\n",
        "  for feature in feature_indices:\n",
        "    train_data[str(feature)] = hogged_data[str(feature)] \n",
        "  train_X = train_data\n",
        "  return train_X\n",
        "\n",
        "train_X = get_wrapper_features_dataset(train_X,feature_indices)\n"
      ],
      "execution_count": null,
      "outputs": []
    },
    {
      "cell_type": "code",
      "metadata": {
        "id": "wcmw4Q2C8mvG"
      },
      "source": [
        "# joinind data age, gender and location\n",
        "\n",
        "df_oneencode_location = pd.get_dummies(train_csv['location'],prefix='location')\n",
        "df_oneencode_gender = pd.get_dummies(train_csv['gender'],prefix='gender')"
      ],
      "execution_count": null,
      "outputs": []
    },
    {
      "cell_type": "code",
      "metadata": {
        "id": "VPCw34u4J3hu"
      },
      "source": [
        ""
      ],
      "execution_count": null,
      "outputs": []
    },
    {
      "cell_type": "code",
      "metadata": {
        "id": "-1rROKUDJNQS"
      },
      "source": [
        ""
      ],
      "execution_count": null,
      "outputs": []
    },
    {
      "cell_type": "code",
      "metadata": {
        "id": "uWFkBIgG_32v"
      },
      "source": [
        "train_csv = pd.concat([train_csv, df_oneencode_location], axis=1, sort=False)"
      ],
      "execution_count": null,
      "outputs": []
    },
    {
      "cell_type": "code",
      "metadata": {
        "id": "LqTVlezeFV8U"
      },
      "source": [
        "train_csv = pd.concat([train_csv, df_oneencode_gender], axis=1, sort=False)"
      ],
      "execution_count": null,
      "outputs": []
    },
    {
      "cell_type": "code",
      "metadata": {
        "id": "2MR2_iT7KEfG"
      },
      "source": [
        "train_csv = train_csv.drop(['filename','covid(label)','location','gender'],axis =1)\n"
      ],
      "execution_count": null,
      "outputs": []
    },
    {
      "cell_type": "code",
      "metadata": {
        "id": "7Tn8Mk-a_79A"
      },
      "source": [
        "X_train = pd.concat([train_csv, train_X], axis=1, sort=False)"
      ],
      "execution_count": null,
      "outputs": []
    },
    {
      "cell_type": "code",
      "metadata": {
        "id": "cRWPizXqBT5q"
      },
      "source": [
        ""
      ],
      "execution_count": null,
      "outputs": []
    },
    {
      "cell_type": "code",
      "metadata": {
        "id": "kHyQC8kMHmGz"
      },
      "source": [
        ""
      ],
      "execution_count": null,
      "outputs": []
    },
    {
      "cell_type": "code",
      "metadata": {
        "id": "gStGlPB6ConY"
      },
      "source": [
        ""
      ],
      "execution_count": null,
      "outputs": []
    },
    {
      "cell_type": "code",
      "metadata": {
        "id": "_MfWwWlDAmaE"
      },
      "source": [
        "display(X_train)\n",
        "X_train['age'] = X_train['age'].fillna(X_train['age'].mean(skipna = True) )"
      ],
      "execution_count": null,
      "outputs": []
    },
    {
      "cell_type": "code",
      "metadata": {
        "id": "uGIPPX7tDV1O"
      },
      "source": [
        "len(X_train.values[1])"
      ],
      "execution_count": null,
      "outputs": []
    },
    {
      "cell_type": "code",
      "metadata": {
        "id": "bdkTmHUQgbur"
      },
      "source": [
        "import tensorflow as tf\n",
        "from math import sqrt\n",
        "from keras.utils import to_categorical\n",
        "from keras.models import Sequential\n",
        "from keras.regularizers import l2\n",
        "from keras.layers import Dense, Dropout\n",
        "\n",
        "#  Define a Feed-Forward Model with 2 hidden layers with dimensions 1152 and 576 Neurons\n",
        "model = Sequential([\n",
        "  Dense(179, activation='relu', input_shape=(179,), name=\"first_hidden_layer\"),\n",
        "  Dense(179//2, activation='relu', name=\"second_hidden_layer\"),Dropout(0.25),\n",
        "  Dense(2, activation='softmax'),\n",
        "])\n",
        "print(model.summary())\n",
        "\n",
        "\n",
        "# compile model\n",
        "model.compile(optimizer='sgd', loss='categorical_crossentropy',metrics=['accuracy'],)\n"
      ],
      "execution_count": null,
      "outputs": []
    },
    {
      "cell_type": "code",
      "metadata": {
        "id": "Wh_hfE0fDp2c"
      },
      "source": [
        "from time import time\n",
        "start = time()\n",
        "performance = model.fit(X_train, to_categorical(train_Y), epochs=20, batch_size=256,)\n",
        "print('Training time for this model is = ', time()-start)"
      ],
      "execution_count": null,
      "outputs": []
    },
    {
      "cell_type": "code",
      "metadata": {
        "id": "WsG0G0jpRSSB"
      },
      "source": [
        "type(train_Y)"
      ],
      "execution_count": null,
      "outputs": []
    },
    {
      "cell_type": "markdown",
      "metadata": {
        "id": "bsmEPQJHRSnm"
      },
      "source": [
        "# K-means clustering"
      ]
    },
    {
      "cell_type": "code",
      "metadata": {
        "id": "0EmDxW7nS8Vv"
      },
      "source": [
        "for feature in list(X_train.columns.values):\n",
        "  X_train[feature].fillna((X_train[feature].mean()), inplace=True)\n"
      ],
      "execution_count": null,
      "outputs": []
    },
    {
      "cell_type": "code",
      "metadata": {
        "id": "qKnx-Q8NONIC"
      },
      "source": [
        "from sklearn.cluster import KMeans\n"
      ],
      "execution_count": null,
      "outputs": []
    },
    {
      "cell_type": "code",
      "metadata": {
        "id": "e5ChicuB5Fw8"
      },
      "source": [
        "X_train = X_train.values\n",
        "def cross_val(X_val,train_Y):\n",
        "  y=train_Y\n",
        "  score = []\n",
        "  skf = KFold(n_splits=5) \n",
        "  for train_index, test_index in skf.split(X_val):\n",
        "    x_train, x_test = X_val[train_index], X_val[test_index]\n",
        "    y_train, y_test = y[train_index], y[test_index]\n",
        "    kmeans = KMeans(n_clusters=2, random_state=0)\n",
        "    kmeans.fit(x_train, y_train)\n",
        "    y_labels_test = kmeans.predict(x_test)\n",
        "    count =0\n",
        "    for i,j in zip(y_labels_test,y_test):\n",
        "      if i==j:\n",
        "        count =count+1\n",
        "    print(\"accuracy:\", count*100/len(y_labels_test) )\n",
        "\n",
        "\n",
        "\n",
        "    # print(y_labels_test)\n",
        "\n",
        "    # score.append(kmeans.score(x_test, y_test))\n",
        "\n",
        "  return \n",
        "\n",
        "\n",
        "print(cross_val(X_train,train_Y))\n"
      ],
      "execution_count": null,
      "outputs": []
    }
  ]
}