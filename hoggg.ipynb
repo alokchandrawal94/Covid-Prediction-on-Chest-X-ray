{
  "nbformat": 4,
  "nbformat_minor": 0,
  "metadata": {
    "colab": {
      "name": "hoggg.ipynb",
      "provenance": [],
      "collapsed_sections": []
    },
    "kernelspec": {
      "name": "python3",
      "display_name": "Python 3"
    }
  },
  "cells": [
    {
      "cell_type": "code",
      "metadata": {
        "id": "DOvqmJ50cKkf"
      },
      "source": [
        "from google.colab import drive\n",
        "drive.mount('/content/drive')"
      ],
      "execution_count": null,
      "outputs": []
    },
    {
      "cell_type": "code",
      "metadata": {
        "id": "mqu05YgSMme0"
      },
      "source": [
        "import cv2\n",
        "import os\n",
        "from skimage.io import imread, imshow, imread_collection\n",
        "from skimage.transform import resize\n",
        "from skimage.feature import hog\n",
        "from skimage import exposure\n",
        "import matplotlib.pyplot as plt\n",
        "import pandas as pd\n",
        "import numpy as np\n",
        "#%matplotlib inline\n"
      ],
      "execution_count": null,
      "outputs": []
    },
    {
      "cell_type": "code",
      "metadata": {
        "id": "IIcmzAQg_i5a"
      },
      "source": [
        "#reading the image\n",
        "img_1 = imread('/content/drive/Shareddrives/CSCE 633(Fall 2020) HW5/train_resized/img_12.jpeg',as_gray=True)\n",
        "imshow(img_1)\n",
        "print(img_1.shape)"
      ],
      "execution_count": null,
      "outputs": []
    },
    {
      "cell_type": "code",
      "metadata": {
        "id": "2j4YIwMtABZA"
      },
      "source": [
        "# width height ratio width to height 1;2\n",
        "# skimage  takes the input as height x width.\n",
        "#resizing image \n",
        "resized_img_1 = resize(img_1, (128,64)) #64x128 default values of original file. 1:2 ratio important..\n",
        "imshow(resized_img_1) \n",
        "print(resized_img_1.shape)"
      ],
      "execution_count": null,
      "outputs": []
    },
    {
      "cell_type": "code",
      "metadata": {
        "id": "yrDSPES_IgGh"
      },
      "source": [
        "#creating hog features , use default values..\n",
        "fd_1, hog_image_1 = hog(resized_img_1, feature_vector=True, visualize=True)\n",
        "fd_1.shape\n",
        "#pixels_per_cell=3,3 --> 3218436, 8,8 -->443556"
      ],
      "execution_count": null,
      "outputs": []
    },
    {
      "cell_type": "code",
      "metadata": {
        "id": "XfG0JhrfJUUW"
      },
      "source": [
        "fig, (ax1, ax2) = plt.subplots(1, 2, figsize=(8, 8), sharex=True, sharey=True) \n",
        "ax1.imshow(resized_img_1, cmap=plt.cm.gray) \n",
        "ax1.set_title('Input image') \n",
        "# Rescale histogram for better display \n",
        "hog_image_rescaled_1 = exposure.rescale_intensity(hog_image_1, in_range=(0, 10)) \n",
        "ax2.imshow(hog_image_rescaled_1, cmap=plt.cm.gray) \n",
        "ax2.set_title('Histogram of Oriented Gradients')\n",
        "plt.show()"
      ],
      "execution_count": null,
      "outputs": []
    },
    {
      "cell_type": "code",
      "metadata": {
        "id": "3wbVC3hJAZ9u"
      },
      "source": [
        "images = []\n",
        "def load_images_from_folder(folder):\n",
        "    for filename in os.listdir(folder):\n",
        "        img = cv2.imread(os.path.join(folder,filename),cv2.IMREAD_GRAYSCALE)\n",
        "        if img is not None:\n",
        "            #print(img.shape) #((2823, 2823, 3))\n",
        "            images.append(img)\n",
        "    #return images\n",
        "\n",
        "load_images_from_folder(\"/content/drive/Shared drives/CSCE 633(Fall 2020) HW5/train_resized\")"
      ],
      "execution_count": null,
      "outputs": []
    },
    {
      "cell_type": "code",
      "metadata": {
        "id": "0c854HJbZR_B"
      },
      "source": [
        "len(images)"
      ],
      "execution_count": null,
      "outputs": []
    },
    {
      "cell_type": "code",
      "metadata": {
        "id": "PBTSKypfgc2j"
      },
      "source": [
        "# skimage  takes the input as height x width.\n",
        "#resizing image \n",
        "resized_images=[]\n",
        "for i in images:\n",
        "  r_im= resize(i, (256,128)) \n",
        "  resized_images.append(r_im)"
      ],
      "execution_count": null,
      "outputs": []
    },
    {
      "cell_type": "code",
      "metadata": {
        "id": "42FCRGM3dNSh"
      },
      "source": [
        "len(resized_images)"
      ],
      "execution_count": null,
      "outputs": []
    },
    {
      "cell_type": "code",
      "metadata": {
        "id": "RQYM68GpZlbk"
      },
      "source": [
        "fd_list=[]\n",
        "hog_images=[]\n",
        "for imge in resized_images:\n",
        "  fd_i, hog_image = hog(imge, feature_vector=True, visualize=True)\n",
        "  fd_list.append(fd_i)\n",
        "  hog_images.append(hog_image)\n",
        "\n",
        "print(hog_image.shape)\n",
        "print(fd_i) #one image as a feacture vectore array"
      ],
      "execution_count": null,
      "outputs": []
    },
    {
      "cell_type": "code",
      "metadata": {
        "id": "nRqDaGUvjBSG"
      },
      "source": [
        "print(len(hog_images))\n",
        "print(len(fd_list))\n",
        "print(fd_i.shape)"
      ],
      "execution_count": null,
      "outputs": []
    },
    {
      "cell_type": "code",
      "metadata": {
        "id": "oR0px58jmSuV"
      },
      "source": [
        "#save fdlist into csv file\n",
        "import pandas as pd \n",
        "import csv\n",
        "resultFile = open(\"fd_list.csv\",'w')\n",
        "wr = csv.writer(resultFile)\n",
        "for i in fd_list:\n",
        "    wr.writerows([i])"
      ],
      "execution_count": null,
      "outputs": []
    },
    {
      "cell_type": "code",
      "metadata": {
        "id": "vQtirjbjU5z1"
      },
      "source": [
        "#can I make a new data to see what is happenening\n",
        "dataframe = pd.read_csv('/content/drive/Shared drives/CSCE 633(Fall 2020) HW5/train.csv')\n",
        "dataframe.head(3)\n",
        "dataframe.tail(3)"
      ],
      "execution_count": null,
      "outputs": []
    },
    {
      "cell_type": "code",
      "metadata": {
        "id": "OxZxJ4BpWHJW"
      },
      "source": [
        "X_traincsv = dataframe.iloc[:, 1:-1].values #filename did not added\n",
        "y_traincsv = dataframe.iloc[:, -1].values\n",
        "print(X_traincsv.shape)\n",
        "print(y_traincsv.shape)"
      ],
      "execution_count": null,
      "outputs": []
    },
    {
      "cell_type": "code",
      "metadata": {
        "id": "oY2D8bY4XXIb"
      },
      "source": [
        "np.shape(fd_list)\n"
      ],
      "execution_count": null,
      "outputs": []
    },
    {
      "cell_type": "code",
      "metadata": {
        "id": "sXRXEMm16q5T"
      },
      "source": [
        "# after hog function i save the results as csv file.\n",
        "#read from there..\n",
        "columns = pd.read_csv('/content/fd_list.csv',header=None)\n",
        "new_values = columns.iloc[:, 1:].values\n",
        "print(new_values.shape)"
      ],
      "execution_count": null,
      "outputs": []
    },
    {
      "cell_type": "code",
      "metadata": {
        "id": "aPt73N147808"
      },
      "source": [
        "# check new values(afterhog) and real csv file label column\n",
        "print(new_values.shape)\n",
        "print(y_traincsv.shape)"
      ],
      "execution_count": null,
      "outputs": []
    },
    {
      "cell_type": "code",
      "metadata": {
        "id": "5X95optsFEvO"
      },
      "source": [
        "# create a new structure with these 2\n",
        "result= np.concatenate((new_values, y_traincsv.reshape(len(y_traincsv),1)), axis=1)\n",
        "print(result.shape)"
      ],
      "execution_count": null,
      "outputs": []
    },
    {
      "cell_type": "code",
      "metadata": {
        "id": "eVU90ZwaOWR4"
      },
      "source": [
        "#save new structure into csv file..\n",
        "import pandas as pd \n",
        "import csv\n",
        "resultwithlabel = open(\"resultwithlabel.csv\",'w')\n",
        "wr = csv.writer(resultwithlabel)\n",
        "for i in result:\n",
        "    wr.writerows([i])"
      ],
      "execution_count": null,
      "outputs": []
    },
    {
      "cell_type": "code",
      "metadata": {
        "id": "bjLhFRkJOnQ3"
      },
      "source": [
        "newDataframe = pd.read_csv('/content/resultwithlabel.csv',header=None)\n",
        "checkvalues = newDataframe.iloc[:, 1:].values\n",
        "checkresult = newDataframe.iloc[:, -1].values\n",
        "print(checkvalues.shape)\n",
        "print(checkresult.shape)\n",
        "newDataframe.head(3)"
      ],
      "execution_count": null,
      "outputs": []
    },
    {
      "cell_type": "code",
      "metadata": {
        "id": "i-1HOsX4QKbd"
      },
      "source": [
        "from sklearn.model_selection import train_test_split\n",
        "X_train, X_test, y_train, y_test = train_test_split(checkvalues, checkresult, test_size = 0.2, random_state = 0)"
      ],
      "execution_count": null,
      "outputs": []
    },
    {
      "cell_type": "code",
      "metadata": {
        "id": "--KlkS0mPRtr"
      },
      "source": [
        "from sklearn.preprocessing import StandardScaler\n",
        "sc = StandardScaler()\n",
        "X_train = sc.fit_transform(X_train)\n",
        "X_test = sc.transform(X_test)\n",
        "print(X_train.shape)\n",
        "print(X_test.shape)"
      ],
      "execution_count": null,
      "outputs": []
    },
    {
      "cell_type": "code",
      "metadata": {
        "id": "iBIgWsW8PpJ0"
      },
      "source": [
        "from sklearn.decomposition import PCA\n",
        "pca = PCA(n_components = 5)\n",
        "X_train = pca.fit_transform(X_train)\n",
        "X_test = pca.transform(X_test)\n",
        "print(X_train.shape)\n",
        "print(X_test.shape)"
      ],
      "execution_count": null,
      "outputs": []
    },
    {
      "cell_type": "markdown",
      "metadata": {
        "id": "HuLMccoqcETZ"
      },
      "source": [
        "# TRY MODELS"
      ]
    },
    {
      "cell_type": "markdown",
      "metadata": {
        "id": "I5ya8oHsewZE"
      },
      "source": [
        "## RandomForestClassifier ENTROPY"
      ]
    },
    {
      "cell_type": "code",
      "metadata": {
        "id": "xUU8mE3Zu7a4"
      },
      "source": [
        "from sklearn.ensemble import RandomForestClassifier\n",
        "classifierentropy = RandomForestClassifier(n_estimators = 10, criterion = 'entropy', random_state = 0)\n",
        "classifierentropy.fit(X_train, y_train)"
      ],
      "execution_count": null,
      "outputs": []
    },
    {
      "cell_type": "code",
      "metadata": {
        "id": "ClrBxLW2QAcd"
      },
      "source": [
        "from sklearn.metrics import confusion_matrix, accuracy_score\n",
        "y_pred = classifierentropy.predict(X_test)\n",
        "cm = confusion_matrix(y_test, y_pred)\n",
        "print(cm)\n",
        "accuracy_score(y_test, y_pred)"
      ],
      "execution_count": null,
      "outputs": []
    },
    {
      "cell_type": "markdown",
      "metadata": {
        "id": "8P3JtDM9ezIX"
      },
      "source": [
        "## RandomForestClassifier GINI"
      ]
    },
    {
      "cell_type": "code",
      "metadata": {
        "id": "lidVnU3rzQ7c"
      },
      "source": [
        "from sklearn.ensemble import RandomForestClassifier\n",
        "classifiergini = RandomForestClassifier(n_estimators = 10, criterion = 'gini', random_state = 0)\n",
        "classifiergini.fit(X_train, y_train)"
      ],
      "execution_count": null,
      "outputs": []
    },
    {
      "cell_type": "code",
      "metadata": {
        "id": "3d6zZG9tzUz-"
      },
      "source": [
        "from sklearn.metrics import confusion_matrix, accuracy_score\n",
        "y_pred = classifiergini.predict(X_test)\n",
        "cm = confusion_matrix(y_test, y_pred)\n",
        "print(cm)\n",
        "accuracy_score(y_test, y_pred)"
      ],
      "execution_count": null,
      "outputs": []
    },
    {
      "cell_type": "markdown",
      "metadata": {
        "id": "Di2MImLUfCVp"
      },
      "source": [
        "## SVC sigmoid"
      ]
    },
    {
      "cell_type": "code",
      "metadata": {
        "id": "mK2EXP1Wvv6t"
      },
      "source": [
        "from sklearn.svm import SVC\n",
        "classifiersvc = SVC(kernel='sigmoid', random_state = 0)\n",
        "classifiersvc.fit(X_train, y_train)"
      ],
      "execution_count": null,
      "outputs": []
    },
    {
      "cell_type": "code",
      "metadata": {
        "id": "xJxgupY1wJXN"
      },
      "source": [
        "from sklearn.metrics import confusion_matrix, accuracy_score\n",
        "y_pred = classifiersvc.predict(X_test)\n",
        "cm = confusion_matrix(y_test, y_pred)\n",
        "print(cm)\n",
        "accuracy_score(y_test, y_pred)"
      ],
      "execution_count": null,
      "outputs": []
    },
    {
      "cell_type": "markdown",
      "metadata": {
        "id": "VDDWrV07fg0C"
      },
      "source": [
        "# LogisticRegression"
      ]
    },
    {
      "cell_type": "code",
      "metadata": {
        "id": "4qy8pI1qwcJc"
      },
      "source": [
        "from sklearn.linear_model import LogisticRegression\n",
        "classifierlr = LogisticRegression(random_state = 0)\n",
        "classifierlr.fit(X_train, y_train)"
      ],
      "execution_count": null,
      "outputs": []
    },
    {
      "cell_type": "code",
      "metadata": {
        "id": "w3w6uWCzwfo5"
      },
      "source": [
        "from sklearn.metrics import confusion_matrix, accuracy_score\n",
        "y_pred = classifierlr.predict(X_test)\n",
        "cm = confusion_matrix(y_test, y_pred)\n",
        "print(cm)\n",
        "accuracy_score(y_test, y_pred)"
      ],
      "execution_count": null,
      "outputs": []
    },
    {
      "cell_type": "code",
      "metadata": {
        "id": "2Fs9tHaKd3Qe"
      },
      "source": [
        ""
      ],
      "execution_count": null,
      "outputs": []
    }
  ]
}