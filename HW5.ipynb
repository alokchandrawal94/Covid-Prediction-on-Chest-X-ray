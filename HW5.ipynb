{
  "nbformat": 4,
  "nbformat_minor": 0,
  "metadata": {
    "colab": {
      "name": "HW5.ipynb",
      "provenance": [],
      "collapsed_sections": []
    },
    "kernelspec": {
      "name": "python3",
      "display_name": "Python 3"
    }
  },
  "cells": [
    {
      "cell_type": "code",
      "metadata": {
        "id": "DoiiOGltHMLO"
      },
      "source": [
        "from google.colab import drive\n",
        "drive.mount('/content/drive')"
      ],
      "execution_count": null,
      "outputs": []
    },
    {
      "cell_type": "code",
      "metadata": {
        "id": "mqu05YgSMme0"
      },
      "source": [
        "import cv2\n",
        "import os\n",
        "from skimage.io import imread, imshow, imread_collection\n",
        "from skimage.transform import resize\n",
        "from skimage.feature import hog\n",
        "from skimage import exposure\n",
        "import matplotlib.pyplot as plt\n",
        "import pandas as pd\n",
        "import numpy as np\n",
        "#%matplotlib inline\n"
      ],
      "execution_count": null,
      "outputs": []
    },
    {
      "cell_type": "code",
      "metadata": {
        "id": "IIcmzAQg_i5a"
      },
      "source": [
        "#reading the image\n",
        "img_1 = imread('/content/drive/Shareddrives/CSCE 633(Fall 2020) HW5/train_resized/img_102.jpg',as_gray=True)\n",
        "imshow(img_1)\n",
        "print(img_1.shape)"
      ],
      "execution_count": null,
      "outputs": []
    },
    {
      "cell_type": "code",
      "metadata": {
        "id": "2j4YIwMtABZA"
      },
      "source": [
        "# skimage  takes the input as height x width.\n",
        "#resizing image \n",
        "resized_img_1 = resize(img_1, (128,64)) #64x128 default values of original file. 1:2 ratio important..\n",
        "imshow(resized_img_1) \n",
        "print(resized_img_1.shape)"
      ],
      "execution_count": null,
      "outputs": []
    },
    {
      "cell_type": "code",
      "metadata": {
        "id": "yrDSPES_IgGh"
      },
      "source": [
        "#creating hog features , use default values..\n",
        "fd_1, hog_image_1 = hog(resized_img_1, feature_vector=True, visualize=True)\n",
        "fd_1.shape\n",
        "#pixels_per_cell=3,3 --> 3218436, 8,8 -->443556"
      ],
      "execution_count": null,
      "outputs": []
    },
    {
      "cell_type": "code",
      "metadata": {
        "id": "XfG0JhrfJUUW"
      },
      "source": [
        "fig, (ax1, ax2) = plt.subplots(1, 2, figsize=(16, 8), sharex=True, sharey=True) \n",
        "ax1.imshow(resized_img_1, cmap=plt.cm.gray) \n",
        "ax1.set_title('Input image') \n",
        "# Rescale histogram for better display \n",
        "hog_image_rescaled_1 = exposure.rescale_intensity(hog_image_1, in_range=(0, 10)) \n",
        "ax2.imshow(hog_image_rescaled_1, cmap=plt.cm.gray) \n",
        "ax2.set_title('Histogram of Oriented Gradients')\n",
        "plt.show()"
      ],
      "execution_count": null,
      "outputs": []
    },
    {
      "cell_type": "code",
      "metadata": {
        "id": "3wbVC3hJAZ9u"
      },
      "source": [
        "images = []\n",
        "def load_images_from_folder(folder):\n",
        "    for filename in os.listdir(folder):\n",
        "        img = cv2.imread(os.path.join(folder,filename),cv2.IMREAD_GRAYSCALE)\n",
        "        if img is not None:\n",
        "            #print(img.shape) #((2823, 2823, 3))\n",
        "            images.append(img)\n",
        "    #return images\n",
        "\n",
        "load_images_from_folder(\"/content/drive/Shared drives/CSCE 633(Fall 2020) HW5/train_resized\")"
      ],
      "execution_count": null,
      "outputs": []
    },
    {
      "cell_type": "code",
      "metadata": {
        "id": "0c854HJbZR_B"
      },
      "source": [
        "len(images)"
      ],
      "execution_count": null,
      "outputs": []
    },
    {
      "cell_type": "code",
      "metadata": {
        "id": "PBTSKypfgc2j"
      },
      "source": [
        "# skimage  takes the input as height x width.\n",
        "#resizing image \n",
        "resized_images=[]\n",
        "for i in images:\n",
        "  r_im= resize(i, (128,64)) \n",
        "  resized_images.append(r_im)"
      ],
      "execution_count": null,
      "outputs": []
    },
    {
      "cell_type": "code",
      "metadata": {
        "id": "42FCRGM3dNSh"
      },
      "source": [
        "print(resized_images[1].shape)"
      ],
      "execution_count": null,
      "outputs": []
    },
    {
      "cell_type": "code",
      "metadata": {
        "id": "RQYM68GpZlbk"
      },
      "source": [
        "fd_list=[]\n",
        "hog_images=[]\n",
        "for imge in resized_images:\n",
        "  fd_i, hog_image = hog(imge, feature_vector=True, visualize=True)\n",
        "  fd_list.append(fd_i)\n",
        "  hog_images.append(hog_image)\n",
        "\n",
        "print(hog_image.shape)\n",
        "print(fd_i) #one image as a feacture vectore array"
      ],
      "execution_count": null,
      "outputs": []
    },
    {
      "cell_type": "code",
      "metadata": {
        "id": "nRqDaGUvjBSG"
      },
      "source": [
        "print(len(hog_images))\n",
        "print(len(fd_list))\n",
        "print(fd_i.shape)"
      ],
      "execution_count": null,
      "outputs": []
    },
    {
      "cell_type": "code",
      "metadata": {
        "id": "vQtirjbjU5z1"
      },
      "source": [
        "#can I make a new data to see what is happenening\n",
        "dataframe = pd.read_csv('/content/drive/Shared drives/CSCE 633(Fall 2020) HW5/train.csv')\n",
        "dataframe.head(3)\n",
        "dataframe.tail(3) #249 images\n",
        "dataframe = dataframe.dropna()"
      ],
      "execution_count": null,
      "outputs": []
    },
    {
      "cell_type": "code",
      "metadata": {
        "id": "OxZxJ4BpWHJW"
      },
      "source": [
        "X_train = dataframe.iloc[:, 1:-1].values #filename did not added\n",
        "y_train = dataframe.iloc[:, -1].values\n",
        "print(X_train.shape)\n"
      ],
      "execution_count": null,
      "outputs": []
    },
    {
      "cell_type": "code",
      "metadata": {
        "id": "oY2D8bY4XXIb"
      },
      "source": [
        "np.shape(fd_list)\n"
      ],
      "execution_count": null,
      "outputs": []
    },
    {
      "cell_type": "code",
      "metadata": {
        "id": "ouadnF09s3QJ"
      },
      "source": [
        "import pandas as pd \n",
        "import csv\n",
        "resultFile = open(\"/content/drive/MyDrive/Colab Notebooks/fd_list.csv\",'w')\n",
        "wr = csv.writer(resultFile)\n",
        "for i in fd_list:\n",
        "    wr.writerows([i])"
      ],
      "execution_count": null,
      "outputs": []
    },
    {
      "cell_type": "code",
      "metadata": {
        "id": "sXRXEMm16q5T"
      },
      "source": [
        "columns = pd.read_csv('/content/drive/MyDrive/Colab Notebooks/fd_list.csv',header=None)\n",
        "new_values = columns.iloc[:, 1:].values\n",
        "print(new_values.shape)\n",
        "columns.head(3)"
      ],
      "execution_count": null,
      "outputs": []
    },
    {
      "cell_type": "code",
      "metadata": {
        "id": "aPt73N147808"
      },
      "source": [
        "print(new_values.shape)\n",
        "print(y_train.shape)"
      ],
      "execution_count": null,
      "outputs": []
    },
    {
      "cell_type": "code",
      "metadata": {
        "id": "5X95optsFEvO"
      },
      "source": [
        "result= np.concatenate((new_values, y_train.reshape(len(y_train),1)), axis=1)\n",
        "print(result.shape)"
      ],
      "execution_count": null,
      "outputs": []
    },
    {
      "cell_type": "code",
      "metadata": {
        "id": "eVU90ZwaOWR4"
      },
      "source": [
        "import pandas as pd \n",
        "import csv\n",
        "resultwithlabel = open(\"/content/drive/MyDrive/Colab Notebooks/resultwithlabel.csv\",'w')\n",
        "wr = csv.writer(resultwithlabel)\n",
        "for i in result:\n",
        "    wr.writerows([i])"
      ],
      "execution_count": null,
      "outputs": []
    },
    {
      "cell_type": "code",
      "metadata": {
        "id": "bjLhFRkJOnQ3"
      },
      "source": [
        "wholedata = pd.read_csv('/content/drive/MyDrive/Colab Notebooks/resultwithlabel.csv',header=None)\n",
        "checkvalues = wholedata.iloc[:, 1:].values\n",
        "checkresult = wholedata.iloc[:, -1].values\n",
        "print(checkvalues.shape)\n",
        "wholedata.head(3)"
      ],
      "execution_count": null,
      "outputs": []
    },
    {
      "cell_type": "code",
      "metadata": {
        "id": "i-1HOsX4QKbd"
      },
      "source": [
        "from sklearn.model_selection import train_test_split\n",
        "X_train, X_test, y_train, y_test = train_test_split(checkvalues, checkresult, test_size = 0.2, random_state = 0)"
      ],
      "execution_count": null,
      "outputs": []
    },
    {
      "cell_type": "code",
      "metadata": {
        "id": "--KlkS0mPRtr"
      },
      "source": [
        "from sklearn.preprocessing import StandardScaler\n",
        "sc = StandardScaler()\n",
        "X_train = sc.fit_transform(X_train)\n",
        "X_test = sc.transform(X_test)\n",
        "print(X_train.shape)\n",
        "print(X_test.shape)"
      ],
      "execution_count": null,
      "outputs": []
    },
    {
      "cell_type": "code",
      "metadata": {
        "id": "iBIgWsW8PpJ0"
      },
      "source": [
        "from sklearn.decomposition import PCA\n",
        "pca = PCA(n_components = 8)\n",
        "X_train = pca.fit_transform(X_train)\n",
        "X_test = pca.transform(X_test)"
      ],
      "execution_count": null,
      "outputs": []
    },
    {
      "cell_type": "code",
      "metadata": {
        "id": "CWNjXF0tU-_C"
      },
      "source": [
        "from sklearn.linear_model import LogisticRegression\n",
        "classifier = LogisticRegression(random_state = 0)\n",
        "classifier.fit(X_train, y_train)"
      ],
      "execution_count": null,
      "outputs": []
    },
    {
      "cell_type": "code",
      "metadata": {
        "id": "ClrBxLW2QAcd"
      },
      "source": [
        "from sklearn.metrics import confusion_matrix, accuracy_score\n",
        "y_pred = classifier.predict(X_test)\n",
        "cm = confusion_matrix(y_test, y_pred)\n",
        "print(cm)\n",
        "accuracy_score(y_test, y_pred)"
      ],
      "execution_count": null,
      "outputs": []
    },
    {
      "cell_type": "code",
      "metadata": {
        "id": "fHrb0f2DMGo5"
      },
      "source": [
        "Boosting is an Ensemble learning methods that makes use of multiple learners. In boosting different algorithms work closer by learning from each other. "
      ],
      "execution_count": null,
      "outputs": []
    },
    {
      "cell_type": "code",
      "metadata": {
        "id": "1qfO54AUNStJ"
      },
      "source": [
        "#importing Adaboost library and k-fold\n",
        "from sklearn.ensemble import AdaBoostClassifier\n",
        "from sklearn.model_selection import KFold\n"
      ],
      "execution_count": null,
      "outputs": []
    },
    {
      "cell_type": "code",
      "metadata": {
        "id": "OUpR0kjZQbc8"
      },
      "source": [
        " kf = KFold(n_splits=5)\n",
        " #dataframe = training data\n",
        " kf.get_n_splits(X_train)\n"
      ],
      "execution_count": null,
      "outputs": []
    },
    {
      "cell_type": "code",
      "metadata": {
        "id": "b-6_-VOmUHxd"
      },
      "source": [
        "print(X_train.shape)\n",
        "print(y_train.shape)\n",
        "\n"
      ],
      "execution_count": null,
      "outputs": []
    },
    {
      "cell_type": "code",
      "metadata": {
        "id": "AE-oknZURKvu"
      },
      "source": [
        "adaboost = AdaBoostClassifier(n_estimators=100, base_estimator= None,learning_rate=1, random_state = 1)\n",
        "for train_index, test_index in kf.split(X_train):\n",
        "  train_x, test_x = X_train[train_index], X_train[test_index]\n",
        "  train_y, test_y = y_train[train_index], y_train[test_index]\n",
        "  adaboost.fit(X_train, y_train)"
      ],
      "execution_count": null,
      "outputs": []
    },
    {
      "cell_type": "code",
      "metadata": {
        "id": "QNUtkIYcQKLO"
      },
      "source": [
        "adaboost = AdaBoostClassifier(n_estimators=100, base_estimator= None,learning_rate=1, random_state = 1)\n",
        "# base_estimator default is decision tree\n",
        "# n_estimators - The maximum number of estimators at which boosting is terminated\n",
        "adaboost.fit(X, y)"
      ],
      "execution_count": null,
      "outputs": []
    }
  ]
}