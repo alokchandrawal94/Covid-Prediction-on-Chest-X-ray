{
  "nbformat": 4,
  "nbformat_minor": 0,
  "metadata": {
    "colab": {
      "name": "Wrapper.ipynb",
      "provenance": [],
      "collapsed_sections": []
    },
    "kernelspec": {
      "name": "python3",
      "display_name": "Python 3"
    }
  },
  "cells": [
    {
      "cell_type": "markdown",
      "metadata": {
        "id": "eb2CI6glBG8m"
      },
      "source": [
        "### Didnt need to do all this since I believe I really only needed fd_list.csv, but I was just testing things out."
      ]
    },
    {
      "cell_type": "code",
      "metadata": {
        "id": "qgxXKitBAkwH"
      },
      "source": [
        "import os\n",
        "import numpy as np\n",
        "import pandas as pd\n",
        "import matplotlib.pyplot as plt\n",
        "from PIL import Image\n",
        "import cv2\n",
        "from math import sqrt\n",
        "import time\n",
        "\n",
        "from skimage.io import imread, imshow, imread_collection\n",
        "from skimage.transform import resize\n",
        "from skimage.feature import hog\n",
        "from skimage import exposure\n",
        "\n",
        "from sklearn.model_selection import cross_val_score\n",
        "from sklearn.feature_selection import SelectKBest, chi2, RFE, RFECV\n",
        "from sklearn.tree import DecisionTreeClassifier\n",
        "from sklearn.linear_model import LogisticRegression\n",
        "from sklearn.svm import SVC\n",
        "import pickle\n",
        "\n",
        "from google.colab import drive"
      ],
      "execution_count": null,
      "outputs": []
    },
    {
      "cell_type": "code",
      "metadata": {
        "id": "4rJO716CA6q6"
      },
      "source": [
        "drive.mount('/content/drive', force_remount=True)\n",
        "\n",
        "train_img = '/content/drive/Shareddrives/CSCE 633(Fall 2020) HW5/train_resized_100'\n",
        "train_csv = '/content/drive/Shareddrives/CSCE 633(Fall 2020) HW5/train.csv'\n",
        "test_img = '/content/drive/Shareddrives/CSCE 633(Fall 2020) HW5/test_resized_100'\n",
        "test_csv = '/content/drive/Shareddrives/CSCE 633(Fall 2020) HW5/test.csv'"
      ],
      "execution_count": null,
      "outputs": []
    },
    {
      "cell_type": "code",
      "metadata": {
        "id": "yoGXw57UA_y_"
      },
      "source": [
        "train = pd.read_csv(train_csv)\n",
        "test = pd.read_csv(test_csv)"
      ],
      "execution_count": null,
      "outputs": []
    },
    {
      "cell_type": "code",
      "metadata": {
        "id": "VI0dEW-JBBQp"
      },
      "source": [
        "out_val = train['covid(label)'].value_counts()\n",
        "print('Covid-: %d\\nCovid+: %d' % (out_val[0], out_val[1]))"
      ],
      "execution_count": null,
      "outputs": []
    },
    {
      "cell_type": "code",
      "metadata": {
        "id": "6Mf9T64xBB6b"
      },
      "source": [
        "#  https://machinelearningmastery.com/how-to-manually-scale-image-pixel-data-for-deep-learning/\n",
        "# Not scaling image size but data\n",
        "def per_image_standardization(img):\n",
        "  mean = img.mean()\n",
        "  std = img.std()\n",
        "  std = max(std, 1.0/sqrt(len(img)))\n",
        "  img = (img - mean) / std\n",
        "  # clip pixel values to [-1,1]\n",
        "  img = np.clip(img, -1.0, 1.0)\n",
        "  # shift from [-1,1] to [0,1] with 0.5 mean\n",
        "  img = (img + 1.0) / 2.0\n",
        "  return img\n",
        "  \n",
        "def Preprocessing(loc,data):\n",
        "    image_list = []\n",
        "    for image_name in data.filename:\n",
        "        # img = imread(loc + image_name, as_gray=True)\n",
        "        img = per_image_standardization(imread(loc +'/' +image_name, as_gray=True).astype(\"float32\"))\n",
        "        image_list.append(img)\n",
        "    image_list = np.array(image_list)\n",
        "    # image_list = image_list.astype(\"float32\")\n",
        "    # image_list = (image_list / 255) # - 0.5\n",
        "    return image_list\n",
        "\n",
        "images_train = Preprocessing(train_img, train)\n",
        "images_test = Preprocessing(test_img, test)"
      ],
      "execution_count": null,
      "outputs": []
    },
    {
      "cell_type": "code",
      "metadata": {
        "id": "9gUXnF6qDgyY"
      },
      "source": [
        "test.columns.values"
      ],
      "execution_count": null,
      "outputs": []
    },
    {
      "cell_type": "code",
      "metadata": {
        "id": "7DOSYe5NBht9"
      },
      "source": [
        "print(images_train[0][0])\n",
        "imshow(images_train[0])\n",
        "print(images_test[0][0])\n",
        "imshow(images_test[0])"
      ],
      "execution_count": null,
      "outputs": []
    },
    {
      "cell_type": "markdown",
      "metadata": {
        "id": "x0_vsnhoBnQh"
      },
      "source": [
        "# REPLACE HERE WITH fd_list.csv (I believe) Actually just use the extract features part below since setup to work with current image size"
      ]
    },
    {
      "cell_type": "code",
      "metadata": {
        "id": "dNja7e35BmKu"
      },
      "source": [
        "# testing it out with smaller images\n",
        "def extract_features_hog(images):\n",
        "  image_list = []\n",
        "  fd_list = []\n",
        "  for img in images:\n",
        "    img = resize(img, (100,50))\n",
        "    fd, hog_image = hog(img, feature_vector=True, visualize=True)\n",
        "    hog_image = exposure.rescale_intensity(hog_image, in_range=(0, 10)) \n",
        "    fd_list.append(fd)\n",
        "    image_list.append(hog_image)\n",
        "  return np.array(image_list), np.array(fd_list)\n",
        "hog_imgs, hog_fd = extract_features_hog(images_train)\n",
        "hog_imgs_test, hog_fd_test = extract_features_hog(images_test)"
      ],
      "execution_count": null,
      "outputs": []
    },
    {
      "cell_type": "code",
      "metadata": {
        "id": "VbbvPtXFBxZO"
      },
      "source": [
        "# X = hog_fd\n",
        "# y = train['covid(label)']\n",
        "# print(X[0].shape)\n",
        "\n",
        "X_test = hog_fd_test\n",
        "y_test = test['covid(label)']\n",
        "print(X_test[0].shape)"
      ],
      "execution_count": null,
      "outputs": []
    },
    {
      "cell_type": "code",
      "metadata": {
        "id": "qaSptJdPmeQU"
      },
      "source": [
        "print(len(X))\n",
        "print(type(y))\n",
        "print(len(X[0]))\n",
        "print(y[0])\n"
      ],
      "execution_count": null,
      "outputs": []
    },
    {
      "cell_type": "code",
      "metadata": {
        "id": "xsoThWhrnZsT"
      },
      "source": [
        "df = pd.DataFrame(data=X)\n",
        "df['covid(label)']=y\n",
        "print(df.columns.values)"
      ],
      "execution_count": null,
      "outputs": []
    },
    {
      "cell_type": "code",
      "metadata": {
        "id": "vCe5IwM6tAOi"
      },
      "source": [
        "# df.to_csv('/content/drive/Shareddrives/CSCE 633(Fall 2020) HW5/hogged_data.csv', index=False)"
      ],
      "execution_count": null,
      "outputs": []
    },
    {
      "cell_type": "markdown",
      "metadata": {
        "id": "XC09t53-CASI"
      },
      "source": [
        "# Wrapper code"
      ]
    },
    {
      "cell_type": "markdown",
      "metadata": {
        "id": "oFRofdXXDlTu"
      },
      "source": [
        "Instructions: \n",
        "* use a simple classifier such as logister regression or svm\n",
        "* plot the classification performance using a 5-fold cross-validation on\n",
        "the training data against the number of features for both feature selection methods\n",
        "* Compare\n",
        "and contrast between the two (e.g., in terms of performance and computation time)"
      ]
    },
    {
      "cell_type": "code",
      "metadata": {
        "id": "YZClfDhAB-hH"
      },
      "source": [
        "# Instructions: use a simple classifier such as logister regression or svm\n",
        "# different ways we can use for \n",
        "# est = SVC(kernel=\"linear\", C=1)\n",
        "# est = LogisticRegression(solver=\"lbfgs\", max_iter=300)\n",
        "# rfe = RFE(estimator=DecisionTreeClassifier(), 50)\n",
        "# rfe = RFECV(estimator=est)\n",
        "# rfe = RFE(estimator=est, verbose=1)"
      ],
      "execution_count": null,
      "outputs": []
    },
    {
      "cell_type": "code",
      "metadata": {
        "id": "rSwVb7jyGOVV"
      },
      "source": [
        "# wrapper = rfe.fit_transform(X2, y)"
      ],
      "execution_count": null,
      "outputs": []
    },
    {
      "cell_type": "code",
      "metadata": {
        "id": "ScSL2HsRGNeu"
      },
      "source": [
        "svc = SVC(kernel=\"linear\")\n",
        "rfecv = RFECV(estimator=svc, step=1, cv=5, scoring='accuracy', verbose=1)\n",
        "# rfecv = RFECV(estimator=svc, step=1, cv=StratifiedKFold(5), scoring='accuracy', verbose=1)\n"
      ],
      "execution_count": null,
      "outputs": []
    },
    {
      "cell_type": "markdown",
      "metadata": {
        "id": "TtLWgWy3ct6I"
      },
      "source": [
        "**Skip next 2 steps & instead load model from file**\n"
      ]
    },
    {
      "cell_type": "code",
      "metadata": {
        "id": "Ah9qUoJRDY8t"
      },
      "source": [
        "bg = time.time()\n",
        "rfecv.fit(X, y)\n",
        "end = time.time()-bg\n",
        "print(\"Time to Fit:\", end)"
      ],
      "execution_count": null,
      "outputs": []
    },
    {
      "cell_type": "code",
      "metadata": {
        "id": "rzTVqyLicnl1"
      },
      "source": [
        "# run this if you reran rfecv & change filename\n",
        "def save_model(model, name):\n",
        "  Pkl_Filename = \"/content/drive/Shareddrives/CSCE 633(Fall 2020) HW5/\"+name+\".pkl\"\n",
        "  with open(Pkl_Filename, 'wb') as file:  \n",
        "    pickle.dump(model, file)\n",
        "\n",
        "save_model(rfecv, 'RFEcv_model_2')"
      ],
      "execution_count": null,
      "outputs": []
    },
    {
      "cell_type": "code",
      "metadata": {
        "id": "1WN5fm3HakYc"
      },
      "source": [
        "# Load the Model back from file\n",
        "def load_model(name):\n",
        "  Pkl_Filename = '/content/drive/Shareddrives/CSCE 633(Fall 2020) HW5/'+name+'.pkl'\n",
        "  with open(Pkl_Filename, 'rb') as file:  \n",
        "      model = pickle.load(file)\n",
        "  return model\n",
        "\n"
      ],
      "execution_count": null,
      "outputs": []
    },
    {
      "cell_type": "code",
      "metadata": {
        "id": "uz0bcZ15HdHH"
      },
      "source": [
        "# Choose one\n",
        "# svm model\n",
        "rfecv = load_model('RFEcv_model')\n",
        "# logistic regression model\n",
        "rfecv_log = load_model('rfecv_log')"
      ],
      "execution_count": null,
      "outputs": []
    },
    {
      "cell_type": "code",
      "metadata": {
        "id": "j47hX6y9b8vR"
      },
      "source": [
        "print(\"Optimal number of features : %d\" % rfecv.n_features_)\n",
        "print(\"RFE_CV indices:\", rfecv.get_support(indices = True))\n",
        "print(\"Ranked Indices:\", rfecv.ranking_)"
      ],
      "execution_count": null,
      "outputs": []
    },
    {
      "cell_type": "code",
      "metadata": {
        "id": "7HtEhe9i3o1n"
      },
      "source": [
        "# get the selected data by using I believe.\n",
        "selected_rfe = rfecv.transform(X)"
      ],
      "execution_count": null,
      "outputs": []
    },
    {
      "cell_type": "code",
      "metadata": {
        "id": "gaOXJ5fscC8Q"
      },
      "source": [
        "plt.figure()\n",
        "plt.xlabel(\"Number of features selected\")\n",
        "plt.ylabel(\"Cross validation score (nb of correct classifications)\")\n",
        "plt.plot(range(1, len(rfecv.grid_scores_) + 1), rfecv.grid_scores_)\n",
        "plt.show()"
      ],
      "execution_count": null,
      "outputs": []
    },
    {
      "cell_type": "markdown",
      "metadata": {
        "id": "JuCGr-n1dtiF"
      },
      "source": [
        "**Filter?**"
      ]
    },
    {
      "cell_type": "code",
      "metadata": {
        "id": "I12HVfIbd5NC"
      },
      "source": [
        "# k = # of features you want\n",
        "bestfeatures_filter = SelectKBest(score_func=chi2, k=100)\n",
        "filter_fit = bestfeatures_filter.fit(X,y)\n",
        "print(\"Filter indices:\", filter_fit.get_support(indices = True))"
      ],
      "execution_count": null,
      "outputs": []
    },
    {
      "cell_type": "markdown",
      "metadata": {
        "id": "sEdYlLbYm4D1"
      },
      "source": [
        "Timing:\n",
        "* RFECV LogisticRegression:\n",
        " - 1388.21655249595\n",
        "* RFECV SVC:\n",
        " - 2671.6101694107\n",
        "* RFE Log:\n",
        " - 199.14080786705\n",
        "* RFE SVC:\n",
        " - 399.396792173385\n"
      ]
    },
    {
      "cell_type": "code",
      "metadata": {
        "id": "e5ChicuB5Fw8"
      },
      "source": [
        "def cross_val(X_val):\n",
        "  score = []\n",
        "  skf=KFold(n_splits=5, random_state=None, shuffle=True) \n",
        "  for train_index, test_index in skf.split(X_val, y):\n",
        "    X_train, X_test = X_val[train_index], X_val[test_index]\n",
        "    y_train, y_test = y[train_index], y[test_index]\n",
        "    lg = LogisticRegression(solver='lbfgs', max_iter=500)\n",
        "    lg.fit(X_train, y_train)\n",
        "    score.append(lg.score(X_test, y_test))\n",
        "  return score"
      ],
      "execution_count": null,
      "outputs": []
    },
    {
      "cell_type": "code",
      "metadata": {
        "id": "UCSR4fMh_Kli"
      },
      "source": [
        "rfecv = load_model('RFEcv_model')\n",
        "rfecv_log = load_model('rfecv_log')"
      ],
      "execution_count": null,
      "outputs": []
    },
    {
      "cell_type": "code",
      "metadata": {
        "id": "-e_la9aw5Rcd"
      },
      "source": [
        "rf_score = cross_val(rfecv_log.transform(X))\n",
        "rf_score2 = cross_val(rfecv.transform(X))\n",
        "filter_score = cross_val(filter_fit.transform(X))\n",
        "plt.plot(range(1, len(rf_score)+1), rf_score)\n",
        "plt.plot(range(1, len(rf_score2)+1), rf_score2)\n",
        "plt.plot(range(1, len(filter_score)+1), filter_score)\n",
        "plt.yticks([0.5, 0.75, 1])\n",
        "plt.xticks([1, 2, 3, 4, 5])"
      ],
      "execution_count": null,
      "outputs": []
    },
    {
      "cell_type": "code",
      "metadata": {
        "id": "IVDhl_Is-BJN"
      },
      "source": [
        "\n",
        "\n",
        "rfecv = load_model('RFEcv_model')\n",
        "filter = SelectKBest(score_func=chi2, k=200)\n",
        "filter.fit(X,y)\n",
        "print(\"RFEcv svc: \", cross_val(rfecv.transform(X)))\n",
        "print(\"RFEcv log: \", cross_val(rfecv_log.transform(X)))\n",
        "print(\"Filter: \", cross_val(filter.transform(X)))"
      ],
      "execution_count": null,
      "outputs": []
    }
  ]
}